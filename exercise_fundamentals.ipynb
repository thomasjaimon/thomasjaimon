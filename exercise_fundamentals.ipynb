{
  "nbformat": 4,
  "nbformat_minor": 0,
  "metadata": {
    "kernelspec": {
      "display_name": "Python 3.9.2 64-bit",
      "name": "python392jvsc74a57bd05997c304d9048cc3333dff7a280bf64458ec3f56eb4ae73f2127a57fb16aeeea"
    },
    "language_info": {
      "name": "python",
      "version": ""
    },
    "metadata": {
      "interpreter": {
        "hash": "5997c304d9048cc3333dff7a280bf64458ec3f56eb4ae73f2127a57fb16aeeea"
      }
    },
    "orig_nbformat": 2,
    "colab": {
      "name": "exercise_fundamentals.ipynb",
      "provenance": []
    }
  },
  "cells": [
    {
      "cell_type": "markdown",
      "metadata": {
        "id": "eRYV2e14-eGR"
      },
      "source": [
        "# Python Fundamentals - Exercises"
      ]
    },
    {
      "cell_type": "markdown",
      "metadata": {
        "id": "wbwNbWV5-eGY"
      },
      "source": [
        "Print \"Hello World\""
      ]
    },
    {
      "cell_type": "markdown",
      "metadata": {
        "id": "bqez6qUM-eGZ"
      },
      "source": [
        "Use Python as a calculator. Try addition, subttraction, multiplication, division, raising a number to a power (**)"
      ]
    },
    {
      "cell_type": "markdown",
      "metadata": {
        "id": "PExI6e8o-eGa"
      },
      "source": [
        "What is the difference between the next two code sections?\n"
      ]
    },
    {
      "cell_type": "code",
      "metadata": {
        "id": "gQ-fiIdh-eGb"
      },
      "source": [
        "print(\"First block\")\n",
        "for i in range(4):\n",
        "    print(i)\n",
        "print(i*2)\n",
        "\n",
        "print(\"Second block\")\n",
        "for i in range(4):\n",
        "    print(i)\n",
        "    print(i*2)"
      ],
      "execution_count": null,
      "outputs": []
    },
    {
      "cell_type": "markdown",
      "metadata": {
        "id": "-8OzMi39-eGd"
      },
      "source": [
        "# Datatypes"
      ]
    },
    {
      "cell_type": "markdown",
      "metadata": {
        "id": "nnWFeA-X-eGe"
      },
      "source": [
        "Create variables for a person with name \"Agatha\" with weight 75 and height 1.75 and a flag to define whether she is a student or not.  What are the types of these variables?"
      ]
    },
    {
      "cell_type": "markdown",
      "metadata": {
        "id": "tKM6icjR-eGf"
      },
      "source": [
        "Using the vriables above, what happens when we \n",
        "- add 0.1m to the height\n",
        "- multiply the name by 3\n",
        "- add \"Christie\" to the name\n",
        "- add \"five\", or \"5\" to the weight"
      ]
    },
    {
      "cell_type": "markdown",
      "metadata": {
        "id": "AH7fSZkO-eGh"
      },
      "source": [
        "# Methods\n",
        "\n",
        "What methods does an int have?\n",
        "Do strings have a method to determine their length?"
      ]
    },
    {
      "cell_type": "markdown",
      "metadata": {
        "id": "LHKdVB-o-eGi"
      },
      "source": [
        "# Strings \n",
        "\n",
        "Create a string with all the letters of the alphabet \"ABCDEFGHIJKLMNOPQRSTUVWXYZ\" and use functions, string methods, slicing and indexing to answer the following questions:\n",
        "- What is the first letter?\n",
        "- What is the last letter?\n",
        "- What are the last 5 letters?\n",
        "- What are the 11th - 15th letters (inclusive)?\n",
        "- What is the string from the 21st letter to the end of the alphabet?"
      ]
    },
    {
      "cell_type": "markdown",
      "metadata": {
        "id": "Jon9z12k-eGj"
      },
      "source": [
        "# Compound data structures:  list, tuple and dict"
      ]
    },
    {
      "cell_type": "markdown",
      "metadata": {
        "id": "IQHrrb4q-eGj"
      },
      "source": [
        "## Lists\n",
        "\n",
        "Create a list with at least three elements of string datatype. Choose fruit or flowers or cars or whatever. \n",
        "1. Find the first element.\n",
        "2. Find the last element.\n",
        "3. Append another element to the list\n",
        "4. Count the elements in the list\n",
        "5. Insert an element into the third position\n",
        "6. Sort the list \n"
      ]
    },
    {
      "cell_type": "markdown",
      "metadata": {
        "id": "gRveEoTJ-eGk"
      },
      "source": [
        "Use a list comprehension to add a \"s\" to the end of each of the elements of the list."
      ]
    },
    {
      "cell_type": "markdown",
      "metadata": {
        "id": "C8B1LIz9-eGl"
      },
      "source": [
        "## Tuples"
      ]
    },
    {
      "cell_type": "markdown",
      "metadata": {
        "id": "cFI23RRC-eGl"
      },
      "source": [
        "Create a tuple with three elements.  Assign each element of the tuple to a different variable."
      ]
    },
    {
      "cell_type": "markdown",
      "metadata": {
        "id": "vkGgEZt7-eGl"
      },
      "source": [
        "## Dictionaries\n",
        "\n",
        "Create a dictionary with these keys and values:\n",
        "- key \"ENG\", value \"England\"\n",
        "- key \"WAL\", value \"Wales\"\n",
        "- key \"SCO\", value \"Scotland\"\n",
        "- key \"NIR\", value \"Northern Ireland\""
      ]
    },
    {
      "cell_type": "markdown",
      "metadata": {
        "id": "5bauStW_-eGm"
      },
      "source": [
        "Answer these questions\n",
        "- What is the value corresponding to the \"NIR\" key?\n",
        "- What is the value corresponding to the \"GBR\" key?\n",
        "\n",
        "- Can you set a key \"JER\" with value \"Jerzee\"\n",
        "- Can you set another key \"JER\" with value \"Jersey\".  What happens?"
      ]
    },
    {
      "cell_type": "markdown",
      "metadata": {
        "id": "c_1JS8U4-eGm"
      },
      "source": [
        "# Control flow"
      ]
    },
    {
      "cell_type": "markdown",
      "metadata": {
        "id": "1pkNW7IN-eGm"
      },
      "source": [
        "_Conditional statements with if - elif - else_\n",
        "\n",
        "Given a temperature reading, return \"cool\" if under 15, \"warm\" if 15 or over but under 25 and \"hot\" if over 25."
      ]
    },
    {
      "cell_type": "markdown",
      "metadata": {
        "id": "4-meCkeV-eGn"
      },
      "source": [
        "_Loop with for_\n",
        "\n",
        "Print the squares of whole numbers for 1 to 10"
      ]
    },
    {
      "cell_type": "markdown",
      "metadata": {
        "id": "sSvMRa6O-eGn"
      },
      "source": [
        "_Loop with while_\n",
        "\n",
        "Print the result of 15 raised to the power of 1,2,3... while teh result is under 1,000,000.\n"
      ]
    }
  ]
}