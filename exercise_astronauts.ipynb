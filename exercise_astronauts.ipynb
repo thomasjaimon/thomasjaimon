{
  "nbformat": 4,
  "nbformat_minor": 0,
  "metadata": {
    "interpreter": {
      "hash": "68c45707def87feca5a47d18982249224aa76d0675ca5b6bc7cad154e506106e"
    },
    "kernelspec": {
      "display_name": "Python 3.9.2  ('.venv': venv)",
      "name": "python3"
    },
    "language_info": {
      "name": "python",
      "version": ""
    },
    "orig_nbformat": 2,
    "colab": {
      "name": "exercise_astronauts.ipynb",
      "provenance": []
    }
  },
  "cells": [
    {
      "cell_type": "markdown",
      "metadata": {
        "id": "6uG-m_7aGVr_"
      },
      "source": [
        "# Exercise: Astronauts\n",
        "\n",
        "## Who is up there?\n",
        "\n",
        "This API http://api.open-notify.org/astros.json lists the people currently in space.  Print a list of them.\n",
        "\n",
        "Hint: Use the requests module and the get() method. The response has a json() method that returns a dict.  This dict contain a 'people' key with list as the value.  The items in the list are themselves dicts and the value corresponding to the 'name' key of each dict provides the astronaut's name."
      ]
    },
    {
      "cell_type": "code",
      "metadata": {
        "id": "2xRk1ARCGrVc"
      },
      "source": [
        "import requests"
      ],
      "execution_count": 2,
      "outputs": []
    },
    {
      "cell_type": "code",
      "metadata": {
        "id": "ZveEytdOG69M",
        "outputId": "401aa9df-835e-4cb6-e95e-0b07bcaa2589",
        "colab": {
          "base_uri": "https://localhost:8080/"
        }
      },
      "source": [
        "astros_url=\"http://api.open-notify.org/astros.json\"\n",
        "astros_response=requests.get(astros_url)\n",
        "astros_response"
      ],
      "execution_count": 3,
      "outputs": [
        {
          "output_type": "execute_result",
          "data": {
            "text/plain": [
              "<Response [200]>"
            ]
          },
          "metadata": {
            "tags": []
          },
          "execution_count": 3
        }
      ]
    }
  ]
}