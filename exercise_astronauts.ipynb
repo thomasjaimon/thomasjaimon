{
  "nbformat": 4,
  "nbformat_minor": 0,
  "metadata": {
    "interpreter": {
      "hash": "68c45707def87feca5a47d18982249224aa76d0675ca5b6bc7cad154e506106e"
    },
    "kernelspec": {
      "display_name": "Python 3.9.2  ('.venv': venv)",
      "name": "python3"
    },
    "language_info": {
      "name": "python",
      "version": ""
    },
    "orig_nbformat": 2,
    "colab": {
      "name": "exercise_astronauts.ipynb",
      "provenance": []
    }
  },
  "cells": [
    {
      "cell_type": "markdown",
      "metadata": {
        "id": "6uG-m_7aGVr_"
      },
      "source": [
        "# Exercise: Astronauts\n",
        "\n",
        "## Who is up there?\n",
        "\n",
        "This API http://api.open-notify.org/astros.json lists the people currently in space.  Print a list of them.\n",
        "\n",
        "Hint: Use the requests module and the get() method. The response has a json() method that returns a dict.  This dict contain a 'people' key with list as the value.  The items in the list are themselves dicts and the value corresponding to the 'name' key of each dict provides the astronaut's name."
      ]
    },
    {
      "cell_type": "code",
      "metadata": {
        "id": "2xRk1ARCGrVc"
      },
      "source": [
        "import requests"
      ],
      "execution_count": 2,
      "outputs": []
    },
    {
      "cell_type": "code",
      "metadata": {
        "colab": {
          "base_uri": "https://localhost:8080/"
        },
        "id": "ZveEytdOG69M",
        "outputId": "401aa9df-835e-4cb6-e95e-0b07bcaa2589"
      },
      "source": [
        "astros_url=\"http://api.open-notify.org/astros.json\"\n",
        "astros_response=requests.get(astros_url)\n",
        "astros_response"
      ],
      "execution_count": 3,
      "outputs": [
        {
          "output_type": "execute_result",
          "data": {
            "text/plain": [
              "<Response [200]>"
            ]
          },
          "metadata": {
            "tags": []
          },
          "execution_count": 3
        }
      ]
    },
    {
      "cell_type": "code",
      "metadata": {
        "id": "Q5FKXydkI4oz",
        "outputId": "78f5c5f3-2e92-4b19-cdf7-0a0d8d9ea9ea",
        "colab": {
          "base_uri": "https://localhost:8080/"
        }
      },
      "source": [
        "astros_dict=astros_response.json()\n",
        "astros_dict"
      ],
      "execution_count": 7,
      "outputs": [
        {
          "output_type": "execute_result",
          "data": {
            "text/plain": [
              "{'message': 'success',\n",
              " 'number': 10,\n",
              " 'people': [{'craft': 'ISS', 'name': 'Mark Vande Hei'},\n",
              "  {'craft': 'ISS', 'name': 'Oleg Novitskiy'},\n",
              "  {'craft': 'ISS', 'name': 'Pyotr Dubrov'},\n",
              "  {'craft': 'ISS', 'name': 'Thomas Pesquet'},\n",
              "  {'craft': 'ISS', 'name': 'Megan McArthur'},\n",
              "  {'craft': 'ISS', 'name': 'Shane Kimbrough'},\n",
              "  {'craft': 'ISS', 'name': 'Akihiko Hoshide'},\n",
              "  {'craft': 'Tiangong', 'name': 'Nie Haisheng'},\n",
              "  {'craft': 'Tiangong', 'name': 'Liu Boming'},\n",
              "  {'craft': 'Tiangong', 'name': 'Tang Hongbo'}]}"
            ]
          },
          "metadata": {
            "tags": []
          },
          "execution_count": 7
        }
      ]
    },
    {
      "cell_type": "code",
      "metadata": {
        "id": "JuAkBvOPJdbi",
        "outputId": "77c78280-4232-4c37-ee4a-47a74f1c7254",
        "colab": {
          "base_uri": "https://localhost:8080/"
        }
      },
      "source": [
        "astros_dict.keys()"
      ],
      "execution_count": 10,
      "outputs": [
        {
          "output_type": "execute_result",
          "data": {
            "text/plain": [
              "dict_keys(['people', 'number', 'message'])"
            ]
          },
          "metadata": {
            "tags": []
          },
          "execution_count": 10
        }
      ]
    },
    {
      "cell_type": "code",
      "metadata": {
        "id": "Wv8heANUJ3jx"
      },
      "source": [
        "astros_dict['people']"
      ],
      "execution_count": null,
      "outputs": []
    },
    {
      "cell_type": "code",
      "metadata": {
        "id": "VXP5B1hYKHkL",
        "outputId": "f133e565-6271-4af5-d291-d7a453b649db",
        "colab": {
          "base_uri": "https://localhost:8080/"
        }
      },
      "source": [
        "astros_list=astros_dict['people']\n",
        "#type(astros_list[0])\n",
        "astros_list"
      ],
      "execution_count": 18,
      "outputs": [
        {
          "output_type": "execute_result",
          "data": {
            "text/plain": [
              "dict"
            ]
          },
          "metadata": {
            "tags": []
          },
          "execution_count": 18
        }
      ]
    }
  ]
}