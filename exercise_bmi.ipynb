{
  "nbformat": 4,
  "nbformat_minor": 0,
  "metadata": {
    "interpreter": {
      "hash": "68c45707def87feca5a47d18982249224aa76d0675ca5b6bc7cad154e506106e"
    },
    "kernelspec": {
      "display_name": "Python 3.9.2  ('.venv': venv)",
      "name": "python3"
    },
    "language_info": {
      "name": "python",
      "version": ""
    },
    "metadata": {
      "interpreter": {
        "hash": "68c45707def87feca5a47d18982249224aa76d0675ca5b6bc7cad154e506106e"
      }
    },
    "orig_nbformat": 2,
    "colab": {
      "name": "exercise_bmi.ipynb",
      "provenance": []
    }
  },
  "cells": [
    {
      "cell_type": "markdown",
      "metadata": {
        "id": "2Cfqul-yQ-Uh"
      },
      "source": [
        "# Exercise: BMI"
      ]
    },
    {
      "cell_type": "markdown",
      "metadata": {
        "id": "hJmLbF8QQ-Ui"
      },
      "source": [
        "Write a function, bmi.\n",
        "\n",
        "The formula is bmi = weight / (height * height)* where height is in metres, weight is in kg.  \n",
        "See (https://www.nhs.uk/Tools/Pages/Healthyweightcalculator.aspx)\n",
        "\n",
        "Write another function, bmi_category, that takes arguments height and weight and returns a string which has the value:\n",
        "- \"underweight\" if the body mass index is under 20, \n",
        "- \"normal\" if the body mass index is 20 or more but under 25 or \n",
        "- \"overweight\" if the body mass index is 25 or more\n",
        "Use the bmi function.\n",
        "\n",
        "A person has a weight of 77kg and a height of 1.75m.  Are they underweight, normal or overweight?"
      ]
    },
    {
      "cell_type": "markdown",
      "metadata": {
        "id": "MzYlel4nQ-Uj"
      },
      "source": [
        "Define the bmi function"
      ]
    },
    {
      "cell_type": "code",
      "metadata": {
        "id": "8qvTF14iST6G"
      },
      "source": [
        "def bmi(height,weight):\n",
        "    \"\"\"calculate the BMI given weight and height\"\"\"\n",
        "    return weight / (height * height)\n"
      ],
      "execution_count": 7,
      "outputs": []
    },
    {
      "cell_type": "markdown",
      "metadata": {
        "id": "voySkbH4UDn8"
      },
      "source": [
        "Test bmi"
      ]
    },
    {
      "cell_type": "code",
      "metadata": {
        "id": "FEz8y6Z3TVaj",
        "outputId": "808c2179-4233-4466-dd30-cc9e8570b4c1",
        "colab": {
          "base_uri": "https://localhost:8080/"
        }
      },
      "source": [
        ""
      ],
      "execution_count": 8,
      "outputs": [
        {
          "output_type": "execute_result",
          "data": {
            "text/plain": [
              "26.703623580313685"
            ]
          },
          "metadata": {
            "tags": []
          },
          "execution_count": 8
        }
      ]
    },
    {
      "cell_type": "code",
      "metadata": {
        "id": "ZLGQ3JvcUGkG"
      },
      "source": [
        ""
      ],
      "execution_count": null,
      "outputs": []
    },
    {
      "cell_type": "code",
      "metadata": {
        "id": "buT4jwzUQ-Uj"
      },
      "source": [
        "# Define the bmi function here"
      ],
      "execution_count": null,
      "outputs": []
    },
    {
      "cell_type": "markdown",
      "metadata": {
        "id": "qntQu6mxQ-Uj"
      },
      "source": [
        "Test the bmi function"
      ]
    },
    {
      "cell_type": "code",
      "metadata": {
        "id": "GJY-CPd0Q-Uk",
        "outputId": "ba4deb44-99a6-4963-f950-4d8618991c0c",
        "colab": {
          "base_uri": "https://localhost:8080/"
        }
      },
      "source": [
        "# Test the bmi function here\n",
        "bmi(1.72,79)"
      ],
      "execution_count": 14,
      "outputs": [
        {
          "output_type": "execute_result",
          "data": {
            "text/plain": [
              "26.703623580313685"
            ]
          },
          "metadata": {
            "tags": []
          },
          "execution_count": 14
        }
      ]
    },
    {
      "cell_type": "code",
      "metadata": {
        "id": "wPyWurVPQ-Uk"
      },
      "source": [
        "# Define the bmi_category here\n",
        "\n",
        "def bmi_category (height,weight):\n",
        "    bmir=bmi(height,weight)\n",
        "    if bmir < 20 :\n",
        "      result=\"underweight\"\n",
        "    elif bmir < 25:\n",
        "      result=\"normal\"\n",
        "    else :\n",
        "     result=\"overweight\"\n",
        "    return result\n",
        "          "
      ],
      "execution_count": 33,
      "outputs": []
    },
    {
      "cell_type": "markdown",
      "metadata": {
        "id": "KdEaYejSQ-Uk"
      },
      "source": [
        "Test the bmi_category function"
      ]
    },
    {
      "cell_type": "code",
      "metadata": {
        "id": "b9at0MXlQ-Uk",
        "outputId": "ec99e37f-d86a-4639-e728-620e2f4e572b",
        "colab": {
          "base_uri": "https://localhost:8080/",
          "height": 35
        }
      },
      "source": [
        "# Test the bmi_category here\n",
        "bmi_category(1.72,74)"
      ],
      "execution_count": 37,
      "outputs": [
        {
          "output_type": "execute_result",
          "data": {
            "application/vnd.google.colaboratory.intrinsic+json": {
              "type": "string"
            },
            "text/plain": [
              "'overweight'"
            ]
          },
          "metadata": {
            "tags": []
          },
          "execution_count": 37
        }
      ]
    }
  ]
}